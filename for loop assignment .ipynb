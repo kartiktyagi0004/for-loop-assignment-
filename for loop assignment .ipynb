{
 "cells": [
  {
   "cell_type": "code",
   "execution_count": null,
   "id": "cf773421-e633-4bc2-bda2-11cdc24c982a",
   "metadata": {},
   "outputs": [],
   "source": [
    "Python for Loop Assignment\n",
    "Total marks:20 Question 1: Write a Python program to print all the numbers from 1 to 10 using a for loop.\n",
    "Question 2: Write a Python program to find the sum of all numbers from 1 to 100 using a for loop. Question 3: Write a Python program to print the multiplication table of a given number using a for loop. Question 4: Write a Python program to count the number of even and odd numbers from a series of numbers using a for loop. Hint: Find even and odd from this list: [1, 2, 3, 4, 5, 6, 7, 8, 9, 10] Question 5: Write a Python program to find the factorial of a number using a for loop.\n",
    "Question 6: Write a Python program to print the Fibonacci sequence up to a specified number using a for loop. Question 7: Write a Python program to check if a given number is prime or not using a for loop. Question 8: Write a Python program to find the largest element in a list using a for loop. Question 9: Write a Python program to reverse a given string using a for loop. Question 10: Write a Python program to find the common elements between two lists using a for loop. List1 = [1,2,3] List2 = [4,5,1] # common element is 1\n"
   ]
  },
  {
   "cell_type": "markdown",
   "id": "bf6983bb-8d59-40f9-a461-c463ce13da37",
   "metadata": {},
   "source": [
    " 1: Write a Python program to print all the numbers from 1 to 10 using a for loop."
   ]
  },
  {
   "cell_type": "code",
   "execution_count": 6,
   "id": "5f1748ac-9153-42bc-bafd-be3da6da2765",
   "metadata": {},
   "outputs": [
    {
     "name": "stdout",
     "output_type": "stream",
     "text": [
      "1\n",
      "2\n",
      "3\n",
      "4\n",
      "5\n",
      "6\n",
      "7\n",
      "8\n",
      "9\n",
      "10\n"
     ]
    }
   ],
   "source": [
    "for i in range (1,11,1):\n",
    "     print (i)"
   ]
  },
  {
   "cell_type": "markdown",
   "id": "cc818157-e3ce-4c60-9e24-ff03f15c9b97",
   "metadata": {},
   "source": [
    "2: Write a Python program to find the sum of all numbers from 1 to 100 using a for loop."
   ]
  },
  {
   "cell_type": "code",
   "execution_count": 23,
   "id": "67dab2eb-1f56-4c00-965e-265d97642ca2",
   "metadata": {},
   "outputs": [
    {
     "name": "stdout",
     "output_type": "stream",
     "text": [
      "sum of all number: 5050\n"
     ]
    }
   ],
   "source": [
    "total = 0 \n",
    "for i in range(1,101):\n",
    "    total += i\n",
    "print (\"sum of all number:\", total)"
   ]
  },
  {
   "cell_type": "markdown",
   "id": "d2bfd9e0-3579-4158-ac3a-63c1f3fdcf03",
   "metadata": {},
   "source": [
    " 3: Write a Python program to print the multiplication table of a given number using a for loop."
   ]
  },
  {
   "cell_type": "code",
   "execution_count": 27,
   "id": "116e66ed-03a0-43c8-a60a-d9fb06d9677b",
   "metadata": {},
   "outputs": [
    {
     "name": "stdin",
     "output_type": "stream",
     "text": [
      "number  7\n"
     ]
    },
    {
     "name": "stdout",
     "output_type": "stream",
     "text": [
      "7 x 1 = 7\n",
      "7 x 2 = 14\n",
      "7 x 3 = 21\n",
      "7 x 4 = 28\n",
      "7 x 5 = 35\n",
      "7 x 6 = 42\n",
      "7 x 7 = 49\n",
      "7 x 8 = 56\n",
      "7 x 9 = 63\n",
      "7 x 10 = 70\n"
     ]
    }
   ],
   "source": [
    "num=int(input(\"number \"))\n",
    "for i in range (1,11,1):\n",
    "    print (num,\"x\", i, \"=\", num * i )"
   ]
  },
  {
   "cell_type": "markdown",
   "id": "fe2543bb-5c98-4376-898b-45c7b66c7e4c",
   "metadata": {},
   "source": [
    "4: Write a Python program to count the number of even and odd numbers from a series of numbers using a for loop"
   ]
  },
  {
   "cell_type": "code",
   "execution_count": 48,
   "id": "90adfc8e-c8bf-4924-b204-55a002e53dbe",
   "metadata": {},
   "outputs": [
    {
     "name": "stdout",
     "output_type": "stream",
     "text": [
      "odd : 5\n",
      "even: 5\n"
     ]
    }
   ],
   "source": [
    "number = [1,2,3,4,5,6,7,8,9,10]\n",
    "\n",
    "even_count= 0\n",
    "odd_count = 0\n",
    "\n",
    "for i in number :\n",
    "    if i % 2 == 0:\n",
    "         even_count += 1\n",
    "    else:\n",
    "     odd_count += 1\n",
    "\n",
    "print (\"odd :\", odd_count)\n",
    "\n",
    "print (\"even:\", even_count )"
   ]
  },
  {
   "cell_type": "markdown",
   "id": "87fbd650-fc8e-498d-8669-1fc7dd54233e",
   "metadata": {},
   "source": [
    "5: Write a Python program to find the factorial of a number using a for loop."
   ]
  },
  {
   "cell_type": "code",
   "execution_count": 17,
   "id": "cbaa4d7c-fb79-4d1a-99f2-01d9c6eb5c31",
   "metadata": {},
   "outputs": [
    {
     "name": "stdin",
     "output_type": "stream",
     "text": [
      "from the user  5\n"
     ]
    },
    {
     "name": "stdout",
     "output_type": "stream",
     "text": [
      "5 factorial of this number is  120\n"
     ]
    }
   ],
   "source": [
    "num = int(input  (\"from the user \"))\n",
    "factorial = 1 \n",
    "for i in range (1,num + 1):num\n",
    "    factorial *= i\n",
    "print (num ,\"factorial of this number is \" ,factorial   )"
   ]
  },
  {
   "cell_type": "markdown",
   "id": "adeb5973-3554-4c3c-a5e8-c21e39037ed9",
   "metadata": {},
   "source": [
    " 6: Write a Python program to print the Fibonacci sequence up to a specified number using a for loop. "
   ]
  },
  {
   "cell_type": "code",
   "execution_count": 21,
   "id": "ae005ea4-4473-4097-be56-c949bddf8b9c",
   "metadata": {},
   "outputs": [
    {
     "name": "stdin",
     "output_type": "stream",
     "text": [
      " enter the number 10\n"
     ]
    },
    {
     "name": "stdout",
     "output_type": "stream",
     "text": [
      "Fibonacci series:\n",
      "0 1 1 2 3 5 8 13 21 34 "
     ]
    }
   ],
   "source": [
    "number = int (input (\" enter the number\"))\n",
    "a = 0 \n",
    "b = 1 \n",
    "print(\"Fibonacci series:\")\n",
    "for _ in range(number):  \n",
    "    print(a, end=\" \")\n",
    "    c = a+b\n",
    "    a = b \n",
    "    b = c"
   ]
  },
  {
   "cell_type": "markdown",
   "id": "a8299c8b-d47e-468c-b84f-2366cab182e3",
   "metadata": {},
   "source": [
    " 7: Write a Python program to check if a given number is prime or not using a for loop."
   ]
  },
  {
   "cell_type": "code",
   "execution_count": 25,
   "id": "136f52c2-fa08-42cd-8d8e-78d6cd8c3d95",
   "metadata": {},
   "outputs": [
    {
     "name": "stdin",
     "output_type": "stream",
     "text": [
      " enter the number : 9\n"
     ]
    },
    {
     "name": "stdout",
     "output_type": "stream",
     "text": [
      "9 it is not a prime number \n"
     ]
    }
   ],
   "source": [
    "num = int (input (\" enter the number :\"))\n",
    "count = 0\n",
    "for i in range (1, num + 1):\n",
    "     if num %  i == 0 :\n",
    "         count += 1\n",
    "if count == 2:\n",
    "         print (num, \"it is a prime number \")\n",
    "else :\n",
    "         print (num ,\"it is not a prime number \")"
   ]
  },
  {
   "cell_type": "markdown",
   "id": "8f6c7c21-91fe-4dbb-9119-379a4d89b988",
   "metadata": {},
   "source": [
    " 8: Write a Python program to find the largest element in a list using a for loop. "
   ]
  },
  {
   "cell_type": "code",
   "execution_count": 32,
   "id": "0c686481-775b-48af-ae79-0ff42a63ea87",
   "metadata": {},
   "outputs": [
    {
     "name": "stdout",
     "output_type": "stream",
     "text": [
      "the largest number is the : 60\n"
     ]
    }
   ],
   "source": [
    "number = [ 10, 30 ,50 ,60, 5,]\n",
    "largest = number[0] \n",
    "for num in number:\n",
    "    if num > largest :\n",
    "       largest = num \n",
    "print (\"the largest number is the :\", largest  )"
   ]
  },
  {
   "cell_type": "markdown",
   "id": "db982a39-9aa3-477c-986d-0c5d9369d89d",
   "metadata": {},
   "source": [
    "9: Write a Python program to reverse a given string using a for loop."
   ]
  },
  {
   "cell_type": "code",
   "execution_count": 34,
   "id": "db3b51bd-15f2-441f-aad8-aa474fc6d8c7",
   "metadata": {},
   "outputs": [
    {
     "name": "stdout",
     "output_type": "stream",
     "text": [
      "Reversed string: olleh\n"
     ]
    }
   ],
   "source": [
    "text = \"hello\"\n",
    "reversed_text = \"\"\n",
    "\n",
    "for char in text:\n",
    "    reversed_text = char + reversed_text  \n",
    "\n",
    "print(\"Reversed string:\", reversed_text)\n"
   ]
  },
  {
   "cell_type": "code",
   "execution_count": null,
   "id": "1a1aaddb-3341-490d-88c1-f0d23c03d3b6",
   "metadata": {},
   "outputs": [],
   "source": []
  }
 ],
 "metadata": {
  "kernelspec": {
   "display_name": "Python 3 (ipykernel)",
   "language": "python",
   "name": "python3"
  },
  "language_info": {
   "codemirror_mode": {
    "name": "ipython",
    "version": 3
   },
   "file_extension": ".py",
   "mimetype": "text/x-python",
   "name": "python",
   "nbconvert_exporter": "python",
   "pygments_lexer": "ipython3",
   "version": "3.13.5"
  }
 },
 "nbformat": 4,
 "nbformat_minor": 5
}
